{
 "cells": [
  {
   "cell_type": "markdown",
   "id": "f6735f6b-3bec-4dd5-be2b-65f92440a26e",
   "metadata": {},
   "source": [
    "# Identification"
   ]
  },
  {
   "cell_type": "markdown",
   "id": "06b46940-63b1-4eb2-8cbe-ede8711ce7db",
   "metadata": {},
   "source": [
    "Student names and matriculation numbers\n",
    "\n",
    "Mariana Carvalho - a22001926\n",
    "Gonçalo Matias - a22008333\n",
    "\n",
    "We declare that the code and analyses contained in this notebook were produced by ourselves and therefore were not copied from elsewhere."
   ]
  },
  {
   "cell_type": "markdown",
   "id": "612ae33d-f64c-425e-b358-edec0b4b743b",
   "metadata": {
    "tags": []
   },
   "source": [
    "---\n",
    "# Notes\n",
    "---\n",
    "When a code cell has the text `Your code here`, feel free to split it into more cells (code and/or markdown), if it is more convenient for you.\n"
   ]
  },
  {
   "cell_type": "markdown",
   "id": "b9a126b0-f428-459a-89bf-e6ec433744b5",
   "metadata": {
    "tags": []
   },
   "source": [
    "---\n",
    "# Preprocessing\n",
    "---"
   ]
  },
  {
   "cell_type": "markdown",
   "id": "740bb00f",
   "metadata": {},
   "source": [
    "**TO-DO P1**"
   ]
  },
  {
   "cell_type": "code",
   "execution_count": 1,
   "id": "a772e955-3f4d-4fcb-bf9b-d74585617376",
   "metadata": {},
   "outputs": [],
   "source": [
    "# Library imports\n",
    "\n",
    "import os\n",
    "import pandas as pd\n",
    "import matplotlib.pyplot as plt\n",
    "import seaborn as sns\n",
    "import numpy as np\n",
    "from wordcloud import WordCloud\n",
    "import plotly.graph_objs as go"
   ]
  },
  {
   "cell_type": "code",
   "execution_count": 2,
   "id": "16e4561c-d906-4365-8b0e-790fe64b54a0",
   "metadata": {},
   "outputs": [
    {
     "data": {
      "text/html": [
       "<div>\n",
       "<style scoped>\n",
       "    .dataframe tbody tr th:only-of-type {\n",
       "        vertical-align: middle;\n",
       "    }\n",
       "\n",
       "    .dataframe tbody tr th {\n",
       "        vertical-align: top;\n",
       "    }\n",
       "\n",
       "    .dataframe thead th {\n",
       "        text-align: right;\n",
       "    }\n",
       "</style>\n",
       "<table border=\"1\" class=\"dataframe\">\n",
       "  <thead>\n",
       "    <tr style=\"text-align: right;\">\n",
       "      <th></th>\n",
       "      <th>Unnamed: 0</th>\n",
       "      <th>continent</th>\n",
       "      <th>location</th>\n",
       "      <th>date</th>\n",
       "      <th>new_cases</th>\n",
       "      <th>new_deaths</th>\n",
       "      <th>reproduction_rate</th>\n",
       "      <th>icu_patients</th>\n",
       "      <th>hosp_patients</th>\n",
       "      <th>weekly_icu_admissions</th>\n",
       "      <th>...</th>\n",
       "      <th>aged_65_older</th>\n",
       "      <th>aged_70_older</th>\n",
       "      <th>gdp_per_capita</th>\n",
       "      <th>extreme_poverty_prc</th>\n",
       "      <th>cardiovasc_death_per_hundred_thousand</th>\n",
       "      <th>diabetes_pop_rate_aged_20_to_79</th>\n",
       "      <th>female_smokers_prc</th>\n",
       "      <th>female_smokers_prc.1</th>\n",
       "      <th>hospital_beds_per_thousand</th>\n",
       "      <th>life_expectancy</th>\n",
       "    </tr>\n",
       "  </thead>\n",
       "  <tbody>\n",
       "    <tr>\n",
       "      <th>0</th>\n",
       "      <td>0</td>\n",
       "      <td>Asia</td>\n",
       "      <td>Afghanistan</td>\n",
       "      <td>2020-02-24</td>\n",
       "      <td>5.0</td>\n",
       "      <td>NaN</td>\n",
       "      <td>NaN</td>\n",
       "      <td>NaN</td>\n",
       "      <td>NaN</td>\n",
       "      <td>NaN</td>\n",
       "      <td>...</td>\n",
       "      <td>2.581</td>\n",
       "      <td>1.337</td>\n",
       "      <td>1803.987</td>\n",
       "      <td>NaN</td>\n",
       "      <td>597.029</td>\n",
       "      <td>9.59</td>\n",
       "      <td>NaN</td>\n",
       "      <td>NaN</td>\n",
       "      <td>0.5</td>\n",
       "      <td>64.83</td>\n",
       "    </tr>\n",
       "    <tr>\n",
       "      <th>1</th>\n",
       "      <td>1</td>\n",
       "      <td>Asia</td>\n",
       "      <td>Afghanistan</td>\n",
       "      <td>2020-02-25</td>\n",
       "      <td>0.0</td>\n",
       "      <td>NaN</td>\n",
       "      <td>NaN</td>\n",
       "      <td>NaN</td>\n",
       "      <td>NaN</td>\n",
       "      <td>NaN</td>\n",
       "      <td>...</td>\n",
       "      <td>2.581</td>\n",
       "      <td>1.337</td>\n",
       "      <td>1803.987</td>\n",
       "      <td>NaN</td>\n",
       "      <td>597.029</td>\n",
       "      <td>9.59</td>\n",
       "      <td>NaN</td>\n",
       "      <td>NaN</td>\n",
       "      <td>0.5</td>\n",
       "      <td>64.83</td>\n",
       "    </tr>\n",
       "    <tr>\n",
       "      <th>2</th>\n",
       "      <td>2</td>\n",
       "      <td>Asia</td>\n",
       "      <td>Afghanistan</td>\n",
       "      <td>2020-02-26</td>\n",
       "      <td>0.0</td>\n",
       "      <td>NaN</td>\n",
       "      <td>NaN</td>\n",
       "      <td>NaN</td>\n",
       "      <td>NaN</td>\n",
       "      <td>NaN</td>\n",
       "      <td>...</td>\n",
       "      <td>2.581</td>\n",
       "      <td>1.337</td>\n",
       "      <td>1803.987</td>\n",
       "      <td>NaN</td>\n",
       "      <td>597.029</td>\n",
       "      <td>9.59</td>\n",
       "      <td>NaN</td>\n",
       "      <td>NaN</td>\n",
       "      <td>0.5</td>\n",
       "      <td>64.83</td>\n",
       "    </tr>\n",
       "    <tr>\n",
       "      <th>3</th>\n",
       "      <td>3</td>\n",
       "      <td>Asia</td>\n",
       "      <td>Afghanistan</td>\n",
       "      <td>2020-02-27</td>\n",
       "      <td>0.0</td>\n",
       "      <td>NaN</td>\n",
       "      <td>NaN</td>\n",
       "      <td>NaN</td>\n",
       "      <td>NaN</td>\n",
       "      <td>NaN</td>\n",
       "      <td>...</td>\n",
       "      <td>2.581</td>\n",
       "      <td>1.337</td>\n",
       "      <td>1803.987</td>\n",
       "      <td>NaN</td>\n",
       "      <td>597.029</td>\n",
       "      <td>9.59</td>\n",
       "      <td>NaN</td>\n",
       "      <td>NaN</td>\n",
       "      <td>0.5</td>\n",
       "      <td>64.83</td>\n",
       "    </tr>\n",
       "    <tr>\n",
       "      <th>4</th>\n",
       "      <td>4</td>\n",
       "      <td>Asia</td>\n",
       "      <td>Afghanistan</td>\n",
       "      <td>2020-02-28</td>\n",
       "      <td>0.0</td>\n",
       "      <td>NaN</td>\n",
       "      <td>NaN</td>\n",
       "      <td>NaN</td>\n",
       "      <td>NaN</td>\n",
       "      <td>NaN</td>\n",
       "      <td>...</td>\n",
       "      <td>2.581</td>\n",
       "      <td>1.337</td>\n",
       "      <td>1803.987</td>\n",
       "      <td>NaN</td>\n",
       "      <td>597.029</td>\n",
       "      <td>9.59</td>\n",
       "      <td>NaN</td>\n",
       "      <td>NaN</td>\n",
       "      <td>0.5</td>\n",
       "      <td>64.83</td>\n",
       "    </tr>\n",
       "    <tr>\n",
       "      <th>...</th>\n",
       "      <td>...</td>\n",
       "      <td>...</td>\n",
       "      <td>...</td>\n",
       "      <td>...</td>\n",
       "      <td>...</td>\n",
       "      <td>...</td>\n",
       "      <td>...</td>\n",
       "      <td>...</td>\n",
       "      <td>...</td>\n",
       "      <td>...</td>\n",
       "      <td>...</td>\n",
       "      <td>...</td>\n",
       "      <td>...</td>\n",
       "      <td>...</td>\n",
       "      <td>...</td>\n",
       "      <td>...</td>\n",
       "      <td>...</td>\n",
       "      <td>...</td>\n",
       "      <td>...</td>\n",
       "      <td>...</td>\n",
       "      <td>...</td>\n",
       "    </tr>\n",
       "    <tr>\n",
       "      <th>220331</th>\n",
       "      <td>220331</td>\n",
       "      <td>Africa</td>\n",
       "      <td>Zimbabwe</td>\n",
       "      <td>2022-09-26</td>\n",
       "      <td>2.0</td>\n",
       "      <td>0.0</td>\n",
       "      <td>1.28</td>\n",
       "      <td>NaN</td>\n",
       "      <td>NaN</td>\n",
       "      <td>NaN</td>\n",
       "      <td>...</td>\n",
       "      <td>2.822</td>\n",
       "      <td>1.882</td>\n",
       "      <td>1899.775</td>\n",
       "      <td>21.4</td>\n",
       "      <td>307.846</td>\n",
       "      <td>1.82</td>\n",
       "      <td>1.6</td>\n",
       "      <td>30.7</td>\n",
       "      <td>1.7</td>\n",
       "      <td>61.49</td>\n",
       "    </tr>\n",
       "    <tr>\n",
       "      <th>220332</th>\n",
       "      <td>220332</td>\n",
       "      <td>Africa</td>\n",
       "      <td>Zimbabwe</td>\n",
       "      <td>2022-09-27</td>\n",
       "      <td>34.0</td>\n",
       "      <td>0.0</td>\n",
       "      <td>1.28</td>\n",
       "      <td>NaN</td>\n",
       "      <td>NaN</td>\n",
       "      <td>NaN</td>\n",
       "      <td>...</td>\n",
       "      <td>2.822</td>\n",
       "      <td>1.882</td>\n",
       "      <td>1899.775</td>\n",
       "      <td>21.4</td>\n",
       "      <td>307.846</td>\n",
       "      <td>1.82</td>\n",
       "      <td>1.6</td>\n",
       "      <td>30.7</td>\n",
       "      <td>1.7</td>\n",
       "      <td>61.49</td>\n",
       "    </tr>\n",
       "    <tr>\n",
       "      <th>220333</th>\n",
       "      <td>220333</td>\n",
       "      <td>Africa</td>\n",
       "      <td>Zimbabwe</td>\n",
       "      <td>2022-09-28</td>\n",
       "      <td>33.0</td>\n",
       "      <td>3.0</td>\n",
       "      <td>1.27</td>\n",
       "      <td>NaN</td>\n",
       "      <td>NaN</td>\n",
       "      <td>NaN</td>\n",
       "      <td>...</td>\n",
       "      <td>2.822</td>\n",
       "      <td>1.882</td>\n",
       "      <td>1899.775</td>\n",
       "      <td>21.4</td>\n",
       "      <td>307.846</td>\n",
       "      <td>1.82</td>\n",
       "      <td>1.6</td>\n",
       "      <td>30.7</td>\n",
       "      <td>1.7</td>\n",
       "      <td>61.49</td>\n",
       "    </tr>\n",
       "    <tr>\n",
       "      <th>220334</th>\n",
       "      <td>220334</td>\n",
       "      <td>Africa</td>\n",
       "      <td>Zimbabwe</td>\n",
       "      <td>2022-09-29</td>\n",
       "      <td>0.0</td>\n",
       "      <td>0.0</td>\n",
       "      <td>NaN</td>\n",
       "      <td>NaN</td>\n",
       "      <td>NaN</td>\n",
       "      <td>NaN</td>\n",
       "      <td>...</td>\n",
       "      <td>2.822</td>\n",
       "      <td>1.882</td>\n",
       "      <td>1899.775</td>\n",
       "      <td>21.4</td>\n",
       "      <td>307.846</td>\n",
       "      <td>1.82</td>\n",
       "      <td>1.6</td>\n",
       "      <td>30.7</td>\n",
       "      <td>1.7</td>\n",
       "      <td>61.49</td>\n",
       "    </tr>\n",
       "    <tr>\n",
       "      <th>220335</th>\n",
       "      <td>220335</td>\n",
       "      <td>Africa</td>\n",
       "      <td>Zimbabwe</td>\n",
       "      <td>2022-09-30</td>\n",
       "      <td>56.0</td>\n",
       "      <td>0.0</td>\n",
       "      <td>NaN</td>\n",
       "      <td>NaN</td>\n",
       "      <td>NaN</td>\n",
       "      <td>NaN</td>\n",
       "      <td>...</td>\n",
       "      <td>2.822</td>\n",
       "      <td>1.882</td>\n",
       "      <td>1899.775</td>\n",
       "      <td>21.4</td>\n",
       "      <td>307.846</td>\n",
       "      <td>1.82</td>\n",
       "      <td>1.6</td>\n",
       "      <td>30.7</td>\n",
       "      <td>1.7</td>\n",
       "      <td>61.49</td>\n",
       "    </tr>\n",
       "  </tbody>\n",
       "</table>\n",
       "<p>220336 rows × 32 columns</p>\n",
       "</div>"
      ],
      "text/plain": [
       "        Unnamed: 0 continent     location        date  new_cases  new_deaths  \\\n",
       "0                0      Asia  Afghanistan  2020-02-24        5.0         NaN   \n",
       "1                1      Asia  Afghanistan  2020-02-25        0.0         NaN   \n",
       "2                2      Asia  Afghanistan  2020-02-26        0.0         NaN   \n",
       "3                3      Asia  Afghanistan  2020-02-27        0.0         NaN   \n",
       "4                4      Asia  Afghanistan  2020-02-28        0.0         NaN   \n",
       "...            ...       ...          ...         ...        ...         ...   \n",
       "220331      220331    Africa     Zimbabwe  2022-09-26        2.0         0.0   \n",
       "220332      220332    Africa     Zimbabwe  2022-09-27       34.0         0.0   \n",
       "220333      220333    Africa     Zimbabwe  2022-09-28       33.0         3.0   \n",
       "220334      220334    Africa     Zimbabwe  2022-09-29        0.0         0.0   \n",
       "220335      220335    Africa     Zimbabwe  2022-09-30       56.0         0.0   \n",
       "\n",
       "        reproduction_rate  icu_patients  hosp_patients  weekly_icu_admissions  \\\n",
       "0                     NaN           NaN            NaN                    NaN   \n",
       "1                     NaN           NaN            NaN                    NaN   \n",
       "2                     NaN           NaN            NaN                    NaN   \n",
       "3                     NaN           NaN            NaN                    NaN   \n",
       "4                     NaN           NaN            NaN                    NaN   \n",
       "...                   ...           ...            ...                    ...   \n",
       "220331               1.28           NaN            NaN                    NaN   \n",
       "220332               1.28           NaN            NaN                    NaN   \n",
       "220333               1.27           NaN            NaN                    NaN   \n",
       "220334                NaN           NaN            NaN                    NaN   \n",
       "220335                NaN           NaN            NaN                    NaN   \n",
       "\n",
       "        ...  aged_65_older  aged_70_older  gdp_per_capita  \\\n",
       "0       ...          2.581          1.337        1803.987   \n",
       "1       ...          2.581          1.337        1803.987   \n",
       "2       ...          2.581          1.337        1803.987   \n",
       "3       ...          2.581          1.337        1803.987   \n",
       "4       ...          2.581          1.337        1803.987   \n",
       "...     ...            ...            ...             ...   \n",
       "220331  ...          2.822          1.882        1899.775   \n",
       "220332  ...          2.822          1.882        1899.775   \n",
       "220333  ...          2.822          1.882        1899.775   \n",
       "220334  ...          2.822          1.882        1899.775   \n",
       "220335  ...          2.822          1.882        1899.775   \n",
       "\n",
       "        extreme_poverty_prc  cardiovasc_death_per_hundred_thousand  \\\n",
       "0                       NaN                                597.029   \n",
       "1                       NaN                                597.029   \n",
       "2                       NaN                                597.029   \n",
       "3                       NaN                                597.029   \n",
       "4                       NaN                                597.029   \n",
       "...                     ...                                    ...   \n",
       "220331                 21.4                                307.846   \n",
       "220332                 21.4                                307.846   \n",
       "220333                 21.4                                307.846   \n",
       "220334                 21.4                                307.846   \n",
       "220335                 21.4                                307.846   \n",
       "\n",
       "        diabetes_pop_rate_aged_20_to_79  female_smokers_prc  \\\n",
       "0                                  9.59                 NaN   \n",
       "1                                  9.59                 NaN   \n",
       "2                                  9.59                 NaN   \n",
       "3                                  9.59                 NaN   \n",
       "4                                  9.59                 NaN   \n",
       "...                                 ...                 ...   \n",
       "220331                             1.82                 1.6   \n",
       "220332                             1.82                 1.6   \n",
       "220333                             1.82                 1.6   \n",
       "220334                             1.82                 1.6   \n",
       "220335                             1.82                 1.6   \n",
       "\n",
       "        female_smokers_prc.1  hospital_beds_per_thousand  life_expectancy  \n",
       "0                        NaN                         0.5            64.83  \n",
       "1                        NaN                         0.5            64.83  \n",
       "2                        NaN                         0.5            64.83  \n",
       "3                        NaN                         0.5            64.83  \n",
       "4                        NaN                         0.5            64.83  \n",
       "...                      ...                         ...              ...  \n",
       "220331                  30.7                         1.7            61.49  \n",
       "220332                  30.7                         1.7            61.49  \n",
       "220333                  30.7                         1.7            61.49  \n",
       "220334                  30.7                         1.7            61.49  \n",
       "220335                  30.7                         1.7            61.49  \n",
       "\n",
       "[220336 rows x 32 columns]"
      ]
     },
     "execution_count": 2,
     "metadata": {},
     "output_type": "execute_result"
    }
   ],
   "source": [
    "# Data imports\n",
    "\n",
    "covid_df = pd.read_csv('covid-data.csv')\n",
    "covid_df"
   ]
  },
  {
   "cell_type": "code",
   "execution_count": 3,
   "id": "f7c5a6fd",
   "metadata": {},
   "outputs": [
    {
     "name": "stdout",
     "output_type": "stream",
     "text": [
      "<class 'pandas.core.frame.DataFrame'>\n",
      "RangeIndex: 220336 entries, 0 to 220335\n",
      "Data columns (total 32 columns):\n",
      " #   Column                                 Non-Null Count   Dtype  \n",
      "---  ------                                 --------------   -----  \n",
      " 0   Unnamed: 0                             220336 non-null  int64  \n",
      " 1   continent                              207663 non-null  object \n",
      " 2   location                               220336 non-null  object \n",
      " 3   date                                   220336 non-null  object \n",
      " 4   new_cases                              211112 non-null  float64\n",
      " 5   new_deaths                             192215 non-null  float64\n",
      " 6   reproduction_rate                      166135 non-null  float64\n",
      " 7   icu_patients                           28050 non-null   float64\n",
      " 8   hosp_patients                          30819 non-null   float64\n",
      " 9   weekly_icu_admissions                  7125 non-null    float64\n",
      " 10  weekly_hosp_admissions_per_million     14188 non-null   float64\n",
      " 11  new_tests                              75403 non-null   float64\n",
      " 12  positive_rate                          95927 non-null   float64\n",
      " 13  total_vaccinations                     61724 non-null   float64\n",
      " 14  people_vaccinated_at_least_1_dose      59019 non-null   float64\n",
      " 15  people_fully_vaccinated                56261 non-null   float64\n",
      " 16  total_boosters                         32936 non-null   float64\n",
      " 17  new_vaccinations                       50758 non-null   float64\n",
      " 18  government_response_index              166168 non-null  float64\n",
      " 19  population                             219052 non-null  float64\n",
      " 20  population_density                     195670 non-null  float64\n",
      " 21  median_age                             181063 non-null  float64\n",
      " 22  aged_65_older                          179150 non-null  float64\n",
      " 23  aged_70_older                          180115 non-null  float64\n",
      " 24  gdp_per_capita                         180403 non-null  float64\n",
      " 25  extreme_poverty_prc                    117660 non-null  float64\n",
      " 26  cardiovasc_death_per_hundred_thousand  180584 non-null  float64\n",
      " 27  diabetes_pop_rate_aged_20_to_79        189833 non-null  float64\n",
      " 28  female_smokers_prc                     136795 non-null  float64\n",
      " 29  female_smokers_prc.1                   134922 non-null  float64\n",
      " 30  hospital_beds_per_thousand             160657 non-null  float64\n",
      " 31  life_expectancy                        205861 non-null  float64\n",
      "dtypes: float64(28), int64(1), object(3)\n",
      "memory usage: 53.8+ MB\n"
     ]
    }
   ],
   "source": [
    "covid_df.info()"
   ]
  },
  {
   "cell_type": "markdown",
   "id": "2bdf9e30",
   "metadata": {},
   "source": [
    "**TO-DO P2**"
   ]
  },
  {
   "cell_type": "code",
   "execution_count": 4,
   "id": "1c2b9987-58ea-4dae-8e6a-db1eef1441b3",
   "metadata": {},
   "outputs": [],
   "source": [
    "# Understanding the data\n",
    "\n",
    "# FILL MARKDOWN CELL BELOW"
   ]
  },
  {
   "cell_type": "markdown",
   "id": "2bf63b71-7a06-4940-b8af-bd8d1f922172",
   "metadata": {},
   "source": [
    "* * * * * * * * * * * * * * * * * *\n",
    "Your analysis documentation here\n",
    "\n",
    "1   continent - Aqui estão todos os continentes\n",
    "\n",
    "2   location - Aqui estão todos os países e continentes\n",
    "\n",
    "3   date - A data\n",
    "\n",
    "4   new_cases - O número de novos casos\n",
    "\n",
    "5   new_deaths - O número de novos óbitos\n",
    "\n",
    "6   reproduction_rate - É a taxa de reprodução\n",
    "\n",
    "7   icu_patients - Pacientes que estão internados nos cuidados intensivos\n",
    "\n",
    "8   hosp_patients - Pacientes que estão hospitalizados\n",
    "\n",
    "9   weekly_icu_admissions - Novas entradas nos cuidados intensivos por semana\n",
    "\n",
    "10  weekly_hosp_admissions_per_million - Novas entradas nos hospitais intensivos por milhão\n",
    "\n",
    "11  new_tests - Novos testes\n",
    "\n",
    "12  positive_rate - Taxa de casos positivos\n",
    "\n",
    "13  total_vaccinations - Total de pessoas vacinadas\n",
    "\n",
    "14  people_vaccinated_at_least_1_dose - Pessoas vacinadas com pelo menos uma dose\n",
    "\n",
    "15  people_fully_vaccinated - Pessoas vacinadas com todas as doses\n",
    "\n",
    "16  total_boosters - Total de vacinas dadas que são superiores à dose miníma\n",
    "\n",
    "17  new_vaccinations - Vacinações novas\n",
    "\n",
    "18  government_response_index - É a resposta do governo\n",
    "\n",
    "19  population - População total\n",
    "\n",
    "21  median_age - É a idade média da população\n",
    "\n",
    "22  aged_65_older - Idosos com +65 anos\n",
    "\n",
    "23  aged_70_older - Idosos com +70 anos\n",
    "\n",
    "24  gdp_per_capita - É o produto interno bruto por pessoa\n",
    "\n",
    "25  extreme_poverty_prc - Pobreza extrema por pessoa\n",
    "\n",
    "26  cardiovasc_death_per_hundred_thousand - Óbitos por falha no sistema cardio vascular por milhar\n",
    "\n",
    "27  diabetes_pop_rate_aged_20_to_79 - População entre os 20 e os 79 que sofram de diabetes\n",
    "\n",
    "28  female_smokers_prc - Percentagem de mulheres que são fumadoras\n",
    "\n",
    "29  female_smokers_prc.1 - Percentagem de homens que são fumadoras \n",
    "\n",
    "30  hospital_beds_per_thousand - Camas de hospital por milhar\n",
    "\n",
    "31  life_expectancy - Expectativa média de vida\n",
    "* * * * * * * * * * * * * * * * * *"
   ]
  },
  {
   "cell_type": "markdown",
   "id": "583d1907",
   "metadata": {},
   "source": [
    "**TO-DO P3**"
   ]
  },
  {
   "cell_type": "code",
   "execution_count": 5,
   "id": "d5afab18-3d84-4b11-804e-c1b4aa8964eb",
   "metadata": {},
   "outputs": [],
   "source": [
    "# Ensure the date column is datetime\n",
    "\n",
    "# Your code here\n",
    "covid_df['date'] = pd.to_datetime(covid_df['date'])"
   ]
  },
  {
   "cell_type": "markdown",
   "id": "2c7c5684-1912-47db-aa40-fb5d60cde843",
   "metadata": {},
   "source": [
    "---\n",
    "# Analysis\n",
    "---"
   ]
  },
  {
   "cell_type": "markdown",
   "id": "5a30f7ab",
   "metadata": {},
   "source": [
    "**TO-DO A1**"
   ]
  },
  {
   "cell_type": "markdown",
   "id": "91fb1444",
   "metadata": {},
   "source": [
    "Document what is happening in the `location` column\n",
    "\n",
    "Todos os valores desta coluna não são do mesmo tipo , ou seja, são países ou continentes."
   ]
  },
  {
   "cell_type": "code",
   "execution_count": 6,
   "id": "ddecfa68",
   "metadata": {},
   "outputs": [
    {
     "data": {
      "text/plain": [
       "array(['Afghanistan', 'Africa', 'Albania', 'Algeria', 'Andorra', 'Angola',\n",
       "       'Anguilla', 'Antigua and Barbuda', 'Argentina', 'Armenia', 'Aruba',\n",
       "       'Asia', 'Australia', 'Austria', 'Azerbaijan', 'Bahamas', 'Bahrain',\n",
       "       'Bangladesh', 'Barbados', 'Belarus', 'Belgium', 'Belize', 'Benin',\n",
       "       'Bermuda', 'Bhutan', 'Bolivia', 'Bonaire Sint Eustatius and Saba',\n",
       "       'Bosnia and Herzegovina', 'Botswana', 'Brazil',\n",
       "       'British Virgin Islands', 'Brunei', 'Bulgaria', 'Burkina Faso',\n",
       "       'Burundi', 'Cambodia', 'Cameroon', 'Canada', 'Cape Verde',\n",
       "       'Cayman Islands', 'Central African Republic', 'Chad', 'Chile',\n",
       "       'China', 'Colombia', 'Comoros', 'Congo', 'Cook Islands',\n",
       "       'Costa Rica', \"Cote d'Ivoire\", 'Croatia', 'Cuba', 'Curacao',\n",
       "       'Cyprus', 'Czechia', 'Democratic Republic of Congo', 'Denmark',\n",
       "       'Djibouti', 'Dominica', 'Dominican Republic', 'Ecuador', 'Egypt',\n",
       "       'El Salvador', 'Equatorial Guinea', 'Eritrea', 'Estonia',\n",
       "       'Eswatini', 'Ethiopia', 'Europe', 'European Union',\n",
       "       'Faeroe Islands', 'Falkland Islands', 'Fiji', 'Finland', 'France',\n",
       "       'French Polynesia', 'Gabon', 'Gambia', 'Georgia', 'Germany',\n",
       "       'Ghana', 'Gibraltar', 'Greece', 'Greenland', 'Grenada', 'Guam',\n",
       "       'Guatemala', 'Guernsey', 'Guinea', 'Guinea-Bissau', 'Guyana',\n",
       "       'Haiti', 'High income', 'Honduras', 'Hong Kong', 'Hungary',\n",
       "       'Iceland', 'India', 'Indonesia', 'International', 'Iran', 'Iraq',\n",
       "       'Ireland', 'Isle of Man', 'Israel', 'Italy', 'Jamaica', 'Japan',\n",
       "       'Jersey', 'Jordan', 'Kazakhstan', 'Kenya', 'Kiribati', 'Kosovo',\n",
       "       'Kuwait', 'Kyrgyzstan', 'Laos', 'Latvia', 'Lebanon', 'Lesotho',\n",
       "       'Liberia', 'Libya', 'Liechtenstein', 'Lithuania', 'Low income',\n",
       "       'Lower middle income', 'Luxembourg', 'Macao', 'Madagascar',\n",
       "       'Malawi', 'Malaysia', 'Maldives', 'Mali', 'Malta',\n",
       "       'Marshall Islands', 'Mauritania', 'Mauritius', 'Mexico',\n",
       "       'Micronesia (country)', 'Moldova', 'Monaco', 'Mongolia',\n",
       "       'Montenegro', 'Montserrat', 'Morocco', 'Mozambique', 'Myanmar',\n",
       "       'Namibia', 'Nauru', 'Nepal', 'Netherlands', 'New Caledonia',\n",
       "       'New Zealand', 'Nicaragua', 'Niger', 'Nigeria', 'Niue',\n",
       "       'North America', 'North Korea', 'North Macedonia',\n",
       "       'Northern Cyprus', 'Northern Mariana Islands', 'Norway', 'Oceania',\n",
       "       'Oman', 'Pakistan', 'Palau', 'Palestine', 'Panama',\n",
       "       'Papua New Guinea', 'Paraguay', 'Peru', 'Philippines', 'Pitcairn',\n",
       "       'Poland', 'Portugal', 'Puerto Rico', 'Qatar', 'Romania', 'Russia',\n",
       "       'Rwanda', 'Saint Helena', 'Saint Kitts and Nevis', 'Saint Lucia',\n",
       "       'Saint Pierre and Miquelon', 'Saint Vincent and the Grenadines',\n",
       "       'Samoa', 'San Marino', 'Sao Tome and Principe', 'Saudi Arabia',\n",
       "       'Senegal', 'Serbia', 'Seychelles', 'Sierra Leone', 'Singapore',\n",
       "       'Sint Maarten (Dutch part)', 'Slovakia', 'Slovenia',\n",
       "       'Solomon Islands', 'Somalia', 'South Africa', 'South America',\n",
       "       'South Korea', 'South Sudan', 'Spain', 'Sri Lanka', 'Sudan',\n",
       "       'Suriname', 'Sweden', 'Switzerland', 'Syria', 'Taiwan',\n",
       "       'Tajikistan', 'Tanzania', 'Thailand', 'Timor', 'Togo', 'Tokelau',\n",
       "       'Tonga', 'Trinidad and Tobago', 'Tunisia', 'Turkey',\n",
       "       'Turkmenistan', 'Turks and Caicos Islands', 'Tuvalu', 'Uganda',\n",
       "       'Ukraine', 'United Arab Emirates', 'United Kingdom',\n",
       "       'United States', 'United States Virgin Islands',\n",
       "       'Upper middle income', 'Uruguay', 'Uzbekistan', 'Vanuatu',\n",
       "       'Vatican', 'Venezuela', 'Vietnam', 'Wallis and Futuna',\n",
       "       'Western Sahara', 'World', 'Yemen', 'Zambia', 'Zimbabwe'],\n",
       "      dtype=object)"
      ]
     },
     "execution_count": 6,
     "metadata": {},
     "output_type": "execute_result"
    }
   ],
   "source": [
    "covid_df['location'].unique()"
   ]
  },
  {
   "cell_type": "markdown",
   "id": "f47ac391",
   "metadata": {},
   "source": [
    "**TO-DO A2**"
   ]
  },
  {
   "cell_type": "markdown",
   "id": "4bc752f7-b0f8-4a78-993b-2b3677889b6e",
   "metadata": {},
   "source": [
    "Valores de diferentes categorias, não serão úteis para a análise de dados, pois não nos permite tirar conclusões"
   ]
  },
  {
   "cell_type": "markdown",
   "id": "a5208122",
   "metadata": {},
   "source": [
    "**TO-DO A3**"
   ]
  },
  {
   "cell_type": "code",
   "execution_count": 7,
   "id": "7c811104-fafa-47e6-b2e3-e96900d63c4a",
   "metadata": {},
   "outputs": [
    {
     "data": {
      "text/html": [
       "<div>\n",
       "<style scoped>\n",
       "    .dataframe tbody tr th:only-of-type {\n",
       "        vertical-align: middle;\n",
       "    }\n",
       "\n",
       "    .dataframe tbody tr th {\n",
       "        vertical-align: top;\n",
       "    }\n",
       "\n",
       "    .dataframe thead th {\n",
       "        text-align: right;\n",
       "    }\n",
       "</style>\n",
       "<table border=\"1\" class=\"dataframe\">\n",
       "  <thead>\n",
       "    <tr style=\"text-align: right;\">\n",
       "      <th></th>\n",
       "      <th>Unnamed: 0</th>\n",
       "      <th>continent</th>\n",
       "      <th>location</th>\n",
       "      <th>date</th>\n",
       "      <th>new_cases</th>\n",
       "      <th>new_deaths</th>\n",
       "      <th>reproduction_rate</th>\n",
       "      <th>icu_patients</th>\n",
       "      <th>hosp_patients</th>\n",
       "      <th>weekly_icu_admissions</th>\n",
       "      <th>...</th>\n",
       "      <th>aged_65_older</th>\n",
       "      <th>aged_70_older</th>\n",
       "      <th>gdp_per_capita</th>\n",
       "      <th>extreme_poverty_prc</th>\n",
       "      <th>cardiovasc_death_per_hundred_thousand</th>\n",
       "      <th>diabetes_pop_rate_aged_20_to_79</th>\n",
       "      <th>female_smokers_prc</th>\n",
       "      <th>female_smokers_prc.1</th>\n",
       "      <th>hospital_beds_per_thousand</th>\n",
       "      <th>life_expectancy</th>\n",
       "    </tr>\n",
       "  </thead>\n",
       "  <tbody>\n",
       "    <tr>\n",
       "      <th>12395</th>\n",
       "      <td>12395</td>\n",
       "      <td>Europe</td>\n",
       "      <td>Austria</td>\n",
       "      <td>2020-02-25</td>\n",
       "      <td>2.0</td>\n",
       "      <td>NaN</td>\n",
       "      <td>NaN</td>\n",
       "      <td>NaN</td>\n",
       "      <td>NaN</td>\n",
       "      <td>NaN</td>\n",
       "      <td>...</td>\n",
       "      <td>19.202</td>\n",
       "      <td>13.748</td>\n",
       "      <td>45436.686</td>\n",
       "      <td>0.7</td>\n",
       "      <td>145.183</td>\n",
       "      <td>6.35</td>\n",
       "      <td>28.4</td>\n",
       "      <td>30.9</td>\n",
       "      <td>7.37</td>\n",
       "      <td>81.54</td>\n",
       "    </tr>\n",
       "    <tr>\n",
       "      <th>12396</th>\n",
       "      <td>12396</td>\n",
       "      <td>Europe</td>\n",
       "      <td>Austria</td>\n",
       "      <td>2020-02-26</td>\n",
       "      <td>NaN</td>\n",
       "      <td>NaN</td>\n",
       "      <td>NaN</td>\n",
       "      <td>NaN</td>\n",
       "      <td>NaN</td>\n",
       "      <td>NaN</td>\n",
       "      <td>...</td>\n",
       "      <td>19.202</td>\n",
       "      <td>13.748</td>\n",
       "      <td>45436.686</td>\n",
       "      <td>0.7</td>\n",
       "      <td>145.183</td>\n",
       "      <td>6.35</td>\n",
       "      <td>28.4</td>\n",
       "      <td>30.9</td>\n",
       "      <td>7.37</td>\n",
       "      <td>81.54</td>\n",
       "    </tr>\n",
       "    <tr>\n",
       "      <th>12397</th>\n",
       "      <td>12397</td>\n",
       "      <td>Europe</td>\n",
       "      <td>Austria</td>\n",
       "      <td>2020-02-27</td>\n",
       "      <td>0.0</td>\n",
       "      <td>NaN</td>\n",
       "      <td>NaN</td>\n",
       "      <td>NaN</td>\n",
       "      <td>NaN</td>\n",
       "      <td>NaN</td>\n",
       "      <td>...</td>\n",
       "      <td>19.202</td>\n",
       "      <td>13.748</td>\n",
       "      <td>45436.686</td>\n",
       "      <td>0.7</td>\n",
       "      <td>145.183</td>\n",
       "      <td>6.35</td>\n",
       "      <td>28.4</td>\n",
       "      <td>30.9</td>\n",
       "      <td>7.37</td>\n",
       "      <td>81.54</td>\n",
       "    </tr>\n",
       "    <tr>\n",
       "      <th>12398</th>\n",
       "      <td>12398</td>\n",
       "      <td>Europe</td>\n",
       "      <td>Austria</td>\n",
       "      <td>2020-02-28</td>\n",
       "      <td>0.0</td>\n",
       "      <td>NaN</td>\n",
       "      <td>NaN</td>\n",
       "      <td>NaN</td>\n",
       "      <td>NaN</td>\n",
       "      <td>NaN</td>\n",
       "      <td>...</td>\n",
       "      <td>19.202</td>\n",
       "      <td>13.748</td>\n",
       "      <td>45436.686</td>\n",
       "      <td>0.7</td>\n",
       "      <td>145.183</td>\n",
       "      <td>6.35</td>\n",
       "      <td>28.4</td>\n",
       "      <td>30.9</td>\n",
       "      <td>7.37</td>\n",
       "      <td>81.54</td>\n",
       "    </tr>\n",
       "    <tr>\n",
       "      <th>12399</th>\n",
       "      <td>12399</td>\n",
       "      <td>Europe</td>\n",
       "      <td>Austria</td>\n",
       "      <td>2020-02-29</td>\n",
       "      <td>2.0</td>\n",
       "      <td>NaN</td>\n",
       "      <td>NaN</td>\n",
       "      <td>NaN</td>\n",
       "      <td>NaN</td>\n",
       "      <td>NaN</td>\n",
       "      <td>...</td>\n",
       "      <td>19.202</td>\n",
       "      <td>13.748</td>\n",
       "      <td>45436.686</td>\n",
       "      <td>0.7</td>\n",
       "      <td>145.183</td>\n",
       "      <td>6.35</td>\n",
       "      <td>28.4</td>\n",
       "      <td>30.9</td>\n",
       "      <td>7.37</td>\n",
       "      <td>81.54</td>\n",
       "    </tr>\n",
       "    <tr>\n",
       "      <th>...</th>\n",
       "      <td>...</td>\n",
       "      <td>...</td>\n",
       "      <td>...</td>\n",
       "      <td>...</td>\n",
       "      <td>...</td>\n",
       "      <td>...</td>\n",
       "      <td>...</td>\n",
       "      <td>...</td>\n",
       "      <td>...</td>\n",
       "      <td>...</td>\n",
       "      <td>...</td>\n",
       "      <td>...</td>\n",
       "      <td>...</td>\n",
       "      <td>...</td>\n",
       "      <td>...</td>\n",
       "      <td>...</td>\n",
       "      <td>...</td>\n",
       "      <td>...</td>\n",
       "      <td>...</td>\n",
       "      <td>...</td>\n",
       "      <td>...</td>\n",
       "    </tr>\n",
       "    <tr>\n",
       "      <th>186962</th>\n",
       "      <td>186962</td>\n",
       "      <td>Europe</td>\n",
       "      <td>Spain</td>\n",
       "      <td>2022-09-26</td>\n",
       "      <td>0.0</td>\n",
       "      <td>0.0</td>\n",
       "      <td>1.28</td>\n",
       "      <td>143.0</td>\n",
       "      <td>2132.0</td>\n",
       "      <td>112.0</td>\n",
       "      <td>...</td>\n",
       "      <td>19.436</td>\n",
       "      <td>13.799</td>\n",
       "      <td>34272.360</td>\n",
       "      <td>1.0</td>\n",
       "      <td>99.403</td>\n",
       "      <td>7.17</td>\n",
       "      <td>27.4</td>\n",
       "      <td>31.4</td>\n",
       "      <td>2.97</td>\n",
       "      <td>83.56</td>\n",
       "    </tr>\n",
       "    <tr>\n",
       "      <th>186963</th>\n",
       "      <td>186963</td>\n",
       "      <td>Europe</td>\n",
       "      <td>Spain</td>\n",
       "      <td>2022-09-27</td>\n",
       "      <td>8761.0</td>\n",
       "      <td>75.0</td>\n",
       "      <td>1.28</td>\n",
       "      <td>127.0</td>\n",
       "      <td>2107.0</td>\n",
       "      <td>116.0</td>\n",
       "      <td>...</td>\n",
       "      <td>19.436</td>\n",
       "      <td>13.799</td>\n",
       "      <td>34272.360</td>\n",
       "      <td>1.0</td>\n",
       "      <td>99.403</td>\n",
       "      <td>7.17</td>\n",
       "      <td>27.4</td>\n",
       "      <td>31.4</td>\n",
       "      <td>2.97</td>\n",
       "      <td>83.56</td>\n",
       "    </tr>\n",
       "    <tr>\n",
       "      <th>186964</th>\n",
       "      <td>186964</td>\n",
       "      <td>Europe</td>\n",
       "      <td>Spain</td>\n",
       "      <td>2022-09-28</td>\n",
       "      <td>0.0</td>\n",
       "      <td>0.0</td>\n",
       "      <td>1.28</td>\n",
       "      <td>133.0</td>\n",
       "      <td>2097.0</td>\n",
       "      <td>113.0</td>\n",
       "      <td>...</td>\n",
       "      <td>19.436</td>\n",
       "      <td>13.799</td>\n",
       "      <td>34272.360</td>\n",
       "      <td>1.0</td>\n",
       "      <td>99.403</td>\n",
       "      <td>7.17</td>\n",
       "      <td>27.4</td>\n",
       "      <td>31.4</td>\n",
       "      <td>2.97</td>\n",
       "      <td>83.56</td>\n",
       "    </tr>\n",
       "    <tr>\n",
       "      <th>186965</th>\n",
       "      <td>186965</td>\n",
       "      <td>Europe</td>\n",
       "      <td>Spain</td>\n",
       "      <td>2022-09-29</td>\n",
       "      <td>0.0</td>\n",
       "      <td>0.0</td>\n",
       "      <td>NaN</td>\n",
       "      <td>144.0</td>\n",
       "      <td>2150.0</td>\n",
       "      <td>119.0</td>\n",
       "      <td>...</td>\n",
       "      <td>19.436</td>\n",
       "      <td>13.799</td>\n",
       "      <td>34272.360</td>\n",
       "      <td>1.0</td>\n",
       "      <td>99.403</td>\n",
       "      <td>7.17</td>\n",
       "      <td>27.4</td>\n",
       "      <td>31.4</td>\n",
       "      <td>2.97</td>\n",
       "      <td>83.56</td>\n",
       "    </tr>\n",
       "    <tr>\n",
       "      <th>186966</th>\n",
       "      <td>186966</td>\n",
       "      <td>Europe</td>\n",
       "      <td>Spain</td>\n",
       "      <td>2022-09-30</td>\n",
       "      <td>10721.0</td>\n",
       "      <td>95.0</td>\n",
       "      <td>NaN</td>\n",
       "      <td>NaN</td>\n",
       "      <td>NaN</td>\n",
       "      <td>NaN</td>\n",
       "      <td>...</td>\n",
       "      <td>19.436</td>\n",
       "      <td>13.799</td>\n",
       "      <td>34272.360</td>\n",
       "      <td>1.0</td>\n",
       "      <td>99.403</td>\n",
       "      <td>7.17</td>\n",
       "      <td>27.4</td>\n",
       "      <td>31.4</td>\n",
       "      <td>2.97</td>\n",
       "      <td>83.56</td>\n",
       "    </tr>\n",
       "  </tbody>\n",
       "</table>\n",
       "<p>3847 rows × 32 columns</p>\n",
       "</div>"
      ],
      "text/plain": [
       "        Unnamed: 0 continent location       date  new_cases  new_deaths  \\\n",
       "12395        12395    Europe  Austria 2020-02-25        2.0         NaN   \n",
       "12396        12396    Europe  Austria 2020-02-26        NaN         NaN   \n",
       "12397        12397    Europe  Austria 2020-02-27        0.0         NaN   \n",
       "12398        12398    Europe  Austria 2020-02-28        0.0         NaN   \n",
       "12399        12399    Europe  Austria 2020-02-29        2.0         NaN   \n",
       "...            ...       ...      ...        ...        ...         ...   \n",
       "186962      186962    Europe    Spain 2022-09-26        0.0         0.0   \n",
       "186963      186963    Europe    Spain 2022-09-27     8761.0        75.0   \n",
       "186964      186964    Europe    Spain 2022-09-28        0.0         0.0   \n",
       "186965      186965    Europe    Spain 2022-09-29        0.0         0.0   \n",
       "186966      186966    Europe    Spain 2022-09-30    10721.0        95.0   \n",
       "\n",
       "        reproduction_rate  icu_patients  hosp_patients  weekly_icu_admissions  \\\n",
       "12395                 NaN           NaN            NaN                    NaN   \n",
       "12396                 NaN           NaN            NaN                    NaN   \n",
       "12397                 NaN           NaN            NaN                    NaN   \n",
       "12398                 NaN           NaN            NaN                    NaN   \n",
       "12399                 NaN           NaN            NaN                    NaN   \n",
       "...                   ...           ...            ...                    ...   \n",
       "186962               1.28         143.0         2132.0                  112.0   \n",
       "186963               1.28         127.0         2107.0                  116.0   \n",
       "186964               1.28         133.0         2097.0                  113.0   \n",
       "186965                NaN         144.0         2150.0                  119.0   \n",
       "186966                NaN           NaN            NaN                    NaN   \n",
       "\n",
       "        ...  aged_65_older  aged_70_older  gdp_per_capita  \\\n",
       "12395   ...         19.202         13.748       45436.686   \n",
       "12396   ...         19.202         13.748       45436.686   \n",
       "12397   ...         19.202         13.748       45436.686   \n",
       "12398   ...         19.202         13.748       45436.686   \n",
       "12399   ...         19.202         13.748       45436.686   \n",
       "...     ...            ...            ...             ...   \n",
       "186962  ...         19.436         13.799       34272.360   \n",
       "186963  ...         19.436         13.799       34272.360   \n",
       "186964  ...         19.436         13.799       34272.360   \n",
       "186965  ...         19.436         13.799       34272.360   \n",
       "186966  ...         19.436         13.799       34272.360   \n",
       "\n",
       "        extreme_poverty_prc  cardiovasc_death_per_hundred_thousand  \\\n",
       "12395                   0.7                                145.183   \n",
       "12396                   0.7                                145.183   \n",
       "12397                   0.7                                145.183   \n",
       "12398                   0.7                                145.183   \n",
       "12399                   0.7                                145.183   \n",
       "...                     ...                                    ...   \n",
       "186962                  1.0                                 99.403   \n",
       "186963                  1.0                                 99.403   \n",
       "186964                  1.0                                 99.403   \n",
       "186965                  1.0                                 99.403   \n",
       "186966                  1.0                                 99.403   \n",
       "\n",
       "        diabetes_pop_rate_aged_20_to_79  female_smokers_prc  \\\n",
       "12395                              6.35                28.4   \n",
       "12396                              6.35                28.4   \n",
       "12397                              6.35                28.4   \n",
       "12398                              6.35                28.4   \n",
       "12399                              6.35                28.4   \n",
       "...                                 ...                 ...   \n",
       "186962                             7.17                27.4   \n",
       "186963                             7.17                27.4   \n",
       "186964                             7.17                27.4   \n",
       "186965                             7.17                27.4   \n",
       "186966                             7.17                27.4   \n",
       "\n",
       "        female_smokers_prc.1  hospital_beds_per_thousand  life_expectancy  \n",
       "12395                   30.9                        7.37            81.54  \n",
       "12396                   30.9                        7.37            81.54  \n",
       "12397                   30.9                        7.37            81.54  \n",
       "12398                   30.9                        7.37            81.54  \n",
       "12399                   30.9                        7.37            81.54  \n",
       "...                      ...                         ...              ...  \n",
       "186962                  31.4                        2.97            83.56  \n",
       "186963                  31.4                        2.97            83.56  \n",
       "186964                  31.4                        2.97            83.56  \n",
       "186965                  31.4                        2.97            83.56  \n",
       "186966                  31.4                        2.97            83.56  \n",
       "\n",
       "[3847 rows x 32 columns]"
      ]
     },
     "execution_count": 7,
     "metadata": {},
     "output_type": "execute_result"
    }
   ],
   "source": [
    "# create dfx dataframe with data for Austria, France, Spain and Portugal only\n",
    "\n",
    "# Your code here\n",
    "country_df = covid_df.loc[(covid_df['location'] == 'Austria') | (covid_df['location'] == 'France') | (covid_df['location'] == 'Spain') | (covid_df['location'] == 'Portugal')] \n",
    "country_df"
   ]
  },
  {
   "cell_type": "markdown",
   "id": "722b0f40",
   "metadata": {},
   "source": [
    "**TO-DO A4**"
   ]
  },
  {
   "cell_type": "code",
   "execution_count": 8,
   "id": "da241125-dd8b-4e32-ad9a-802913b92de4",
   "metadata": {},
   "outputs": [],
   "source": [
    "# create function to produce and export histogram and boxplot.\n",
    "\n",
    "# follow the instructions provided in the handout\n",
    "# remember you will revise/expand this function later\n",
    "\n",
    "# Your code here                        \n",
    "def get_basic_plots(country, var, opt): \n",
    "    \n",
    "    country_time = (covid_df['date'] >= '2020-02-24') & (covid_df['date'] >= '2020-08-24')\n",
    "    country2_df = country_df.loc[(covid_df['location'] == country)] \n",
    "    \n",
    "    \n",
    "    if opt == False:    \n",
    "        country2_df = country2_df.loc[country_time]\n",
    "        res = sns.histplot(data = country2_df[var], kde = True)\n",
    "        plt.subplots()\n",
    "        res = sns.boxplot(country2_df[var])\n",
    "        q1 = country2_df[var].quantile(.25)\n",
    "        q2 = country2_df[var].quantile(.50)\n",
    "        q3 = country2_df[var].quantile(.75)\n",
    "        iqr = q3 - q1\n",
    "        print(q1, q2, q3, iqr) \n",
    "    if opt == True:\n",
    "        remove = remove_outliers(country2_df, var)\n",
    "        res = sns.histplot(data = remove[var], kde = True)\n",
    "        plt.subplots()\n",
    "        res = sns.boxplot(remove[var])\n",
    "        q1 = country2_df[var].quantile(.25)\n",
    "        q2 = country2_df[var].quantile(.50)\n",
    "        q3 = country2_df[var].quantile(.75)\n",
    "        iqr = q3 - q1\n",
    "        print(q1, q2, q3, iqr) \n",
    "                "
   ]
  },
  {
   "cell_type": "markdown",
   "id": "524d92b8",
   "metadata": {},
   "source": [
    "**TO-DO A5**"
   ]
  },
  {
   "cell_type": "code",
   "execution_count": 9,
   "id": "828fd122-ea08-4bf3-9194-c36e2368cea6",
   "metadata": {},
   "outputs": [],
   "source": [
    "# create function to remove outliers using the 1.5*IQR method \n",
    "\n",
    "# Your code here\n",
    "def remove_outliers(df,col):\n",
    "    q1 = df[col].quantile(.25)\n",
    "    q3 = df[col].quantile(.75)\n",
    "    iqr = q3 - q1\n",
    "    a = iqr * 1.5 \n",
    "    minE = q1 - a\n",
    "    minD = q3 + a\n",
    "    datatemp_df = df.loc[(df[col] >= minE) & (df[col] <= minD)] \n",
    "    datatemp_df.shape\n",
    "    return datatemp_df"
   ]
  },
  {
   "cell_type": "markdown",
   "id": "133d8534",
   "metadata": {},
   "source": [
    "**TO-DO A6**"
   ]
  },
  {
   "cell_type": "code",
   "execution_count": 10,
   "id": "6e945383-7fb8-4836-a116-3628e2bc8dd3",
   "metadata": {},
   "outputs": [],
   "source": [
    "# edit function created in A4 so that the argument opt is used to remove outliers (or not)\n",
    "# following instructions in the handout. Edit your code in the TO-DO A4 cell"
   ]
  },
  {
   "cell_type": "markdown",
   "id": "e1169180",
   "metadata": {},
   "source": [
    "**TO-DO A7**"
   ]
  },
  {
   "cell_type": "code",
   "execution_count": 11,
   "id": "36c09225",
   "metadata": {},
   "outputs": [
    {
     "name": "stdout",
     "output_type": "stream",
     "text": [
      "676.0 2592.5 7236.5 6560.5\n"
     ]
    },
    {
     "name": "stderr",
     "output_type": "stream",
     "text": [
      "C:\\Users\\maria\\anaconda3\\lib\\site-packages\\seaborn\\_decorators.py:36: FutureWarning: Pass the following variable as a keyword arg: x. From version 0.12, the only valid positional argument will be `data`, and passing other arguments without an explicit keyword will result in an error or misinterpretation.\n",
      "  warnings.warn(\n"
     ]
    },
    {
     "data": {
      "image/png": "[encoded data removed]",
      "text/plain": [
       "<Figure size 432x288 with 1 Axes>"
      ]
     },
     "metadata": {
      "needs_background": "light"
     },
     "output_type": "display_data"
    },
    {
     "data": {
      "image/png": "[encoded data removed]",
      "text/plain": [
       "<Figure size 432x288 with 1 Axes>"
      ]
     },
     "metadata": {
      "needs_background": "light"
     },
     "output_type": "display_data"
    }
   ],
   "source": [
    "get_basic_plots('Portugal', 'new_cases', False)"
   ]
  },
  {
   "cell_type": "code",
   "execution_count": 12,
   "id": "5c916fa3",
   "metadata": {},
   "outputs": [
    {
     "name": "stdout",
     "output_type": "stream",
     "text": [
      "406.5 1401.0 5256.0 4849.5\n"
     ]
    },
    {
     "name": "stderr",
     "output_type": "stream",
     "text": [
      "C:\\Users\\maria\\anaconda3\\lib\\site-packages\\seaborn\\_decorators.py:36: FutureWarning: Pass the following variable as a keyword arg: x. From version 0.12, the only valid positional argument will be `data`, and passing other arguments without an explicit keyword will result in an error or misinterpretation.\n",
      "  warnings.warn(\n"
     ]
    },
    {
     "data": {
      "image/png": "[encoded data removed]",
      "text/plain": [
       "<Figure size 432x288 with 1 Axes>"
      ]
     },
     "metadata": {
      "needs_background": "light"
     },
     "output_type": "display_data"
    },
    {
     "data": {
      "image/png": "[encoded data removed]",
      "text/plain": [
       "<Figure size 432x288 with 1 Axes>"
      ]
     },
     "metadata": {
      "needs_background": "light"
     },
     "output_type": "display_data"
    }
   ],
   "source": [
    "get_basic_plots('Portugal', 'new_cases', True)"
   ]
  },
  {
   "cell_type": "code",
   "execution_count": 13,
   "id": "77cf48eb",
   "metadata": {},
   "outputs": [
    {
     "name": "stdout",
     "output_type": "stream",
     "text": [
      "4.0 11.0 33.0 29.0\n"
     ]
    },
    {
     "name": "stderr",
     "output_type": "stream",
     "text": [
      "C:\\Users\\maria\\anaconda3\\lib\\site-packages\\seaborn\\_decorators.py:36: FutureWarning: Pass the following variable as a keyword arg: x. From version 0.12, the only valid positional argument will be `data`, and passing other arguments without an explicit keyword will result in an error or misinterpretation.\n",
      "  warnings.warn(\n"
     ]
    },
    {
     "data": {
      "image/png": "[encoded data removed]",
      "text/plain": [
       "<Figure size 432x288 with 1 Axes>"
      ]
     },
     "metadata": {
      "needs_background": "light"
     },
     "output_type": "display_data"
    },
    {
     "data": {
      "image/png": "[encoded data removed]",
      "text/plain": [
       "<Figure size 432x288 with 1 Axes>"
      ]
     },
     "metadata": {
      "needs_background": "light"
     },
     "output_type": "display_data"
    }
   ],
   "source": [
    "get_basic_plots('Portugal', 'new_deaths', False)"
   ]
  },
  {
   "cell_type": "code",
   "execution_count": 14,
   "id": "84b5c651",
   "metadata": {},
   "outputs": [
    {
     "name": "stderr",
     "output_type": "stream",
     "text": [
      "C:\\Users\\maria\\anaconda3\\lib\\site-packages\\seaborn\\_decorators.py:36: FutureWarning: Pass the following variable as a keyword arg: x. From version 0.12, the only valid positional argument will be `data`, and passing other arguments without an explicit keyword will result in an error or misinterpretation.\n",
      "  warnings.warn(\n"
     ]
    },
    {
     "name": "stdout",
     "output_type": "stream",
     "text": [
      "3.75 10.0 28.0 24.25\n"
     ]
    },
    {
     "data": {
      "image/png": "[encoded data removed]",
      "text/plain": [
       "<Figure size 432x288 with 1 Axes>"
      ]
     },
     "metadata": {
      "needs_background": "light"
     },
     "output_type": "display_data"
    },
    {
     "data": {
      "image/png": "[encoded data removed]",
      "text/plain": [
       "<Figure size 432x288 with 1 Axes>"
      ]
     },
     "metadata": {
      "needs_background": "light"
     },
     "output_type": "display_data"
    }
   ],
   "source": [
    "get_basic_plots('Portugal', 'new_deaths', True)"
   ]
  },
  {
   "cell_type": "code",
   "execution_count": 15,
   "id": "b92ce3d4",
   "metadata": {},
   "outputs": [
    {
     "name": "stdout",
     "output_type": "stream",
     "text": [
      "1091.0 2506.0 7232.0 6141.0\n"
     ]
    },
    {
     "name": "stderr",
     "output_type": "stream",
     "text": [
      "C:\\Users\\maria\\anaconda3\\lib\\site-packages\\seaborn\\_decorators.py:36: FutureWarning: Pass the following variable as a keyword arg: x. From version 0.12, the only valid positional argument will be `data`, and passing other arguments without an explicit keyword will result in an error or misinterpretation.\n",
      "  warnings.warn(\n"
     ]
    },
    {
     "data": {
      "image/png": "[encoded data removed]",
      "text/plain": [
       "<Figure size 432x288 with 1 Axes>"
      ]
     },
     "metadata": {
      "needs_background": "light"
     },
     "output_type": "display_data"
    },
    {
     "data": {
      "image/png": "[encoded data removed]",
      "text/plain": [
       "<Figure size 432x288 with 1 Axes>"
      ]
     },
     "metadata": {
      "needs_background": "light"
     },
     "output_type": "display_data"
    }
   ],
   "source": [
    "get_basic_plots('Austria', 'new_cases', False)"
   ]
  },
  {
   "cell_type": "code",
   "execution_count": 16,
   "id": "b8468546",
   "metadata": {},
   "outputs": [
    {
     "name": "stdout",
     "output_type": "stream",
     "text": [
      "285.0 1801.0 5445.5 5160.5\n"
     ]
    },
    {
     "name": "stderr",
     "output_type": "stream",
     "text": [
      "C:\\Users\\maria\\anaconda3\\lib\\site-packages\\seaborn\\_decorators.py:36: FutureWarning: Pass the following variable as a keyword arg: x. From version 0.12, the only valid positional argument will be `data`, and passing other arguments without an explicit keyword will result in an error or misinterpretation.\n",
      "  warnings.warn(\n"
     ]
    },
    {
     "data": {
      "image/png": "[encoded data removed]",
      "text/plain": [
       "<Figure size 432x288 with 1 Axes>"
      ]
     },
     "metadata": {
      "needs_background": "light"
     },
     "output_type": "display_data"
    },
    {
     "data": {
      "image/png": "[encoded data removed]",
      "text/plain": [
       "<Figure size 432x288 with 1 Axes>"
      ]
     },
     "metadata": {
      "needs_background": "light"
     },
     "output_type": "display_data"
    }
   ],
   "source": [
    "get_basic_plots('Austria', 'new_cases', True)"
   ]
  },
  {
   "cell_type": "code",
   "execution_count": 17,
   "id": "24744409",
   "metadata": {
    "scrolled": false
   },
   "outputs": [
    {
     "name": "stdout",
     "output_type": "stream",
     "text": [
      "5.0 15.0 35.0 30.0\n"
     ]
    },
    {
     "name": "stderr",
     "output_type": "stream",
     "text": [
      "C:\\Users\\maria\\anaconda3\\lib\\site-packages\\seaborn\\_decorators.py:36: FutureWarning: Pass the following variable as a keyword arg: x. From version 0.12, the only valid positional argument will be `data`, and passing other arguments without an explicit keyword will result in an error or misinterpretation.\n",
      "  warnings.warn(\n"
     ]
    },
    {
     "data": {
      "image/png": "[encoded data removed]",
      "text/plain": [
       "<Figure size 432x288 with 1 Axes>"
      ]
     },
     "metadata": {
      "needs_background": "light"
     },
     "output_type": "display_data"
    },
    {
     "data": {
      "image/png": "[encoded data removed]",
      "text/plain": [
       "<Figure size 432x288 with 1 Axes>"
      ]
     },
     "metadata": {
      "needs_background": "light"
     },
     "output_type": "display_data"
    }
   ],
   "source": [
    "get_basic_plots('Austria', 'new_deaths', False)"
   ]
  },
  {
   "cell_type": "code",
   "execution_count": 18,
   "id": "ff795de0",
   "metadata": {},
   "outputs": [
    {
     "name": "stdout",
     "output_type": "stream",
     "text": [
      "3.0 12.0 31.0 28.0\n"
     ]
    },
    {
     "name": "stderr",
     "output_type": "stream",
     "text": [
      "C:\\Users\\maria\\anaconda3\\lib\\site-packages\\seaborn\\_decorators.py:36: FutureWarning: Pass the following variable as a keyword arg: x. From version 0.12, the only valid positional argument will be `data`, and passing other arguments without an explicit keyword will result in an error or misinterpretation.\n",
      "  warnings.warn(\n"
     ]
    },
    {
     "data": {
      "image/png": "[encoded data removed]",
      "text/plain": [
       "<Figure size 432x288 with 1 Axes>"
      ]
     },
     "metadata": {
      "needs_background": "light"
     },
     "output_type": "display_data"
    },
    {
     "data": {
      "image/png": "[encoded data removed]",
      "text/plain": [
       "<Figure size 432x288 with 1 Axes>"
      ]
     },
     "metadata": {
      "needs_background": "light"
     },
     "output_type": "display_data"
    }
   ],
   "source": [
    "get_basic_plots('Austria', 'new_deaths', True)"
   ]
  },
  {
   "cell_type": "code",
   "execution_count": 19,
   "id": "71c3f4f8",
   "metadata": {},
   "outputs": [
    {
     "name": "stdout",
     "output_type": "stream",
     "text": [
      "7295.25 21347.5 46045.5 38750.25\n"
     ]
    },
    {
     "name": "stderr",
     "output_type": "stream",
     "text": [
      "C:\\Users\\maria\\anaconda3\\lib\\site-packages\\seaborn\\_decorators.py:36: FutureWarning: Pass the following variable as a keyword arg: x. From version 0.12, the only valid positional argument will be `data`, and passing other arguments without an explicit keyword will result in an error or misinterpretation.\n",
      "  warnings.warn(\n"
     ]
    },
    {
     "data": {
      "image/png": "[encoded data removed]",
      "text/plain": [
       "<Figure size 432x288 with 1 Axes>"
      ]
     },
     "metadata": {
      "needs_background": "light"
     },
     "output_type": "display_data"
    },
    {
     "data": {
      "image/png": "[encoded data removed]",
      "text/plain": [
       "<Figure size 432x288 with 1 Axes>"
      ]
     },
     "metadata": {
      "needs_background": "light"
     },
     "output_type": "display_data"
    }
   ],
   "source": [
    "get_basic_plots('France', 'new_cases', False)"
   ]
  },
  {
   "cell_type": "code",
   "execution_count": 28,
   "id": "0df0877b",
   "metadata": {},
   "outputs": [
    {
     "name": "stdout",
     "output_type": "stream",
     "text": [
      "2382.0 13483.0 34921.0 32539.0\n"
     ]
    },
    {
     "name": "stderr",
     "output_type": "stream",
     "text": [
      "C:\\Users\\maria\\anaconda3\\lib\\site-packages\\seaborn\\_decorators.py:36: FutureWarning: Pass the following variable as a keyword arg: x. From version 0.12, the only valid positional argument will be `data`, and passing other arguments without an explicit keyword will result in an error or misinterpretation.\n",
      "  warnings.warn(\n"
     ]
    },
    {
     "data": {
      "image/png": "[encoded data removed]",
      "text/plain": [
       "<Figure size 432x288 with 1 Axes>"
      ]
     },
     "metadata": {
      "needs_background": "light"
     },
     "output_type": "display_data"
    },
    {
     "data": {
      "image/png": "[encoded data removed]",
      "text/plain": [
       "<Figure size 432x288 with 1 Axes>"
      ]
     },
     "metadata": {
      "needs_background": "light"
     },
     "output_type": "display_data"
    }
   ],
   "source": [
    "get_basic_plots('France', 'new_cases', True)"
   ]
  },
  {
   "cell_type": "code",
   "execution_count": 21,
   "id": "cffacce1",
   "metadata": {},
   "outputs": [
    {
     "name": "stdout",
     "output_type": "stream",
     "text": [
      "43.0 107.0 213.0 170.0\n"
     ]
    },
    {
     "name": "stderr",
     "output_type": "stream",
     "text": [
      "C:\\Users\\maria\\anaconda3\\lib\\site-packages\\seaborn\\_decorators.py:36: FutureWarning: Pass the following variable as a keyword arg: x. From version 0.12, the only valid positional argument will be `data`, and passing other arguments without an explicit keyword will result in an error or misinterpretation.\n",
      "  warnings.warn(\n"
     ]
    },
    {
     "data": {
      "image/png": "[encoded data removed]",
      "text/plain": [
       "<Figure size 432x288 with 1 Axes>"
      ]
     },
     "metadata": {
      "needs_background": "light"
     },
     "output_type": "display_data"
    },
    {
     "data": {
      "image/png": "[encoded data removed]",
      "text/plain": [
       "<Figure size 432x288 with 1 Axes>"
      ]
     },
     "metadata": {
      "needs_background": "light"
     },
     "output_type": "display_data"
    }
   ],
   "source": [
    "get_basic_plots('France', 'new_deaths', False)"
   ]
  },
  {
   "cell_type": "code",
   "execution_count": 22,
   "id": "c8754548",
   "metadata": {},
   "outputs": [
    {
     "name": "stdout",
     "output_type": "stream",
     "text": [
      "31.0 89.5 213.25 182.25\n"
     ]
    },
    {
     "name": "stderr",
     "output_type": "stream",
     "text": [
      "C:\\Users\\maria\\anaconda3\\lib\\site-packages\\seaborn\\_decorators.py:36: FutureWarning: Pass the following variable as a keyword arg: x. From version 0.12, the only valid positional argument will be `data`, and passing other arguments without an explicit keyword will result in an error or misinterpretation.\n",
      "  warnings.warn(\n"
     ]
    },
    {
     "data": {
      "image/png": "[encoded data removed]",
      "text/plain": [
       "<Figure size 432x288 with 1 Axes>"
      ]
     },
     "metadata": {
      "needs_background": "light"
     },
     "output_type": "display_data"
    },
    {
     "data": {
      "image/png": "[encoded data removed]",
      "text/plain": [
       "<Figure size 432x288 with 1 Axes>"
      ]
     },
     "metadata": {
      "needs_background": "light"
     },
     "output_type": "display_data"
    }
   ],
   "source": [
    "get_basic_plots('France', 'new_deaths', True)"
   ]
  },
  {
   "cell_type": "code",
   "execution_count": 23,
   "id": "c6abbf26",
   "metadata": {},
   "outputs": [
    {
     "name": "stdout",
     "output_type": "stream",
     "text": [
      "0.0 4984.0 18047.0 18047.0\n"
     ]
    },
    {
     "name": "stderr",
     "output_type": "stream",
     "text": [
      "C:\\Users\\maria\\anaconda3\\lib\\site-packages\\seaborn\\_decorators.py:36: FutureWarning: Pass the following variable as a keyword arg: x. From version 0.12, the only valid positional argument will be `data`, and passing other arguments without an explicit keyword will result in an error or misinterpretation.\n",
      "  warnings.warn(\n"
     ]
    },
    {
     "data": {
      "image/png": "[encoded data removed]",
      "text/plain": [
       "<Figure size 432x288 with 1 Axes>"
      ]
     },
     "metadata": {
      "needs_background": "light"
     },
     "output_type": "display_data"
    },
    {
     "data": {
      "image/png": "[encoded data removed]",
      "text/plain": [
       "<Figure size 432x288 with 1 Axes>"
      ]
     },
     "metadata": {
      "needs_background": "light"
     },
     "output_type": "display_data"
    }
   ],
   "source": [
    "get_basic_plots('Spain', 'new_cases', False)"
   ]
  },
  {
   "cell_type": "code",
   "execution_count": 24,
   "id": "624307ad",
   "metadata": {},
   "outputs": [
    {
     "name": "stdout",
     "output_type": "stream",
     "text": [
      "0.0 2421.0 12239.0 12239.0\n"
     ]
    },
    {
     "name": "stderr",
     "output_type": "stream",
     "text": [
      "C:\\Users\\maria\\anaconda3\\lib\\site-packages\\seaborn\\_decorators.py:36: FutureWarning: Pass the following variable as a keyword arg: x. From version 0.12, the only valid positional argument will be `data`, and passing other arguments without an explicit keyword will result in an error or misinterpretation.\n",
      "  warnings.warn(\n"
     ]
    },
    {
     "data": {
      "image/png": "[encoded data removed]",
      "text/plain": [
       "<Figure size 432x288 with 1 Axes>"
      ]
     },
     "metadata": {
      "needs_background": "light"
     },
     "output_type": "display_data"
    },
    {
     "data": {
      "image/png": "[encoded data removed]",
      "text/plain": [
       "<Figure size 432x288 with 1 Axes>"
      ]
     },
     "metadata": {
      "needs_background": "light"
     },
     "output_type": "display_data"
    }
   ],
   "source": [
    "get_basic_plots('Spain', 'new_cases', True)"
   ]
  },
  {
   "cell_type": "code",
   "execution_count": 25,
   "id": "becc3b04",
   "metadata": {},
   "outputs": [
    {
     "name": "stdout",
     "output_type": "stream",
     "text": [
      "0.0 37.0 168.0 168.0\n"
     ]
    },
    {
     "name": "stderr",
     "output_type": "stream",
     "text": [
      "C:\\Users\\maria\\anaconda3\\lib\\site-packages\\seaborn\\_decorators.py:36: FutureWarning: Pass the following variable as a keyword arg: x. From version 0.12, the only valid positional argument will be `data`, and passing other arguments without an explicit keyword will result in an error or misinterpretation.\n",
      "  warnings.warn(\n"
     ]
    },
    {
     "data": {
      "image/png": "[encoded data removed]",
      "text/plain": [
       "<Figure size 432x288 with 1 Axes>"
      ]
     },
     "metadata": {
      "needs_background": "light"
     },
     "output_type": "display_data"
    },
    {
     "data": {
      "image/png": "[encoded data removed]",
      "text/plain": [
       "<Figure size 432x288 with 1 Axes>"
      ]
     },
     "metadata": {
      "needs_background": "light"
     },
     "output_type": "display_data"
    }
   ],
   "source": [
    "get_basic_plots('Spain', 'new_deaths', False)"
   ]
  },
  {
   "cell_type": "code",
   "execution_count": 26,
   "id": "f38d9a4e",
   "metadata": {},
   "outputs": [
    {
     "name": "stdout",
     "output_type": "stream",
     "text": [
      "0.0 30.0 178.5 178.5\n"
     ]
    },
    {
     "name": "stderr",
     "output_type": "stream",
     "text": [
      "C:\\Users\\maria\\anaconda3\\lib\\site-packages\\seaborn\\_decorators.py:36: FutureWarning: Pass the following variable as a keyword arg: x. From version 0.12, the only valid positional argument will be `data`, and passing other arguments without an explicit keyword will result in an error or misinterpretation.\n",
      "  warnings.warn(\n"
     ]
    },
    {
     "data": {
      "image/png": "[encoded data removed]",
      "text/plain": [
       "<Figure size 432x288 with 1 Axes>"
      ]
     },
     "metadata": {
      "needs_background": "light"
     },
     "output_type": "display_data"
    },
    {
     "data": {
      "image/png": "[encoded data removed]",
      "text/plain": [
       "<Figure size 432x288 with 1 Axes>"
      ]
     },
     "metadata": {
      "needs_background": "light"
     },
     "output_type": "display_data"
    }
   ],
   "source": [
    "get_basic_plots('Spain', 'new_deaths', True)"
   ]
  },
  {
   "cell_type": "markdown",
   "id": "a5d74671-7655-4c18-b430-fcc6c3be4de0",
   "metadata": {},
   "source": [
    "Your analysis here \n",
    "\n",
    "a) Tendo em conta a análise de todos os gráficos, de diferentes países com diferentes variáveis, podemos concluir que alguns gráficos têm distribuição normal enquanto outros não. Portugal, com a variável \"new_cases\" apresenta uma distribuição normal, assim como, Portugal - \"new_deaths\", Áustria - \"new_cases\". O resto dos países com ambas as variáveis não apresenta uma distribuição normal \n",
    "\n",
    "b) Analiticamente, é possivel observar diferenças entre os resultados. Os valores outliers retirados não nos trasmitem qualquer tipo de informação relevante. E com isso, permite que o boxplot fique mais clean para o seu estudo. \n",
    "   Quando se analisa a diferença entre os valores com outliers e sem, podemos verificar que, sempre que os valor de mediana são próximos, não é prórpriamente necessário retirar os outliers, não vai alterar muito."
   ]
  },
  {
   "cell_type": "markdown",
   "id": "ff699bee",
   "metadata": {},
   "source": [
    "**TO-DO A8**"
   ]
  },
  {
   "cell_type": "code",
   "execution_count": 27,
   "id": "2b36ea51-accb-4d04-b1a2-80554487b2fb",
   "metadata": {},
   "outputs": [
    {
     "ename": "KeyError",
     "evalue": "0",
     "output_type": "error",
     "traceback": [
      "\u001b[1;31m---------------------------------------------------------------------------\u001b[0m",
      "\u001b[1;31mKeyError\u001b[0m                                  Traceback (most recent call last)",
      "File \u001b[1;32m~\\anaconda3\\lib\\site-packages\\pandas\\core\\indexes\\base.py:3621\u001b[0m, in \u001b[0;36mIndex.get_loc\u001b[1;34m(self, key, method, tolerance)\u001b[0m\n\u001b[0;32m   3620\u001b[0m \u001b[38;5;28;01mtry\u001b[39;00m:\n\u001b[1;32m-> 3621\u001b[0m     \u001b[38;5;28;01mreturn\u001b[39;00m \u001b[38;5;28;43mself\u001b[39;49m\u001b[38;5;241;43m.\u001b[39;49m\u001b[43m_engine\u001b[49m\u001b[38;5;241;43m.\u001b[39;49m\u001b[43mget_loc\u001b[49m\u001b[43m(\u001b[49m\u001b[43mcasted_key\u001b[49m\u001b[43m)\u001b[49m\n\u001b[0;32m   3622\u001b[0m \u001b[38;5;28;01mexcept\u001b[39;00m \u001b[38;5;167;01mKeyError\u001b[39;00m \u001b[38;5;28;01mas\u001b[39;00m err:\n",
      "File \u001b[1;32m~\\anaconda3\\lib\\site-packages\\pandas\\_libs\\index.pyx:136\u001b[0m, in \u001b[0;36mpandas._libs.index.IndexEngine.get_loc\u001b[1;34m()\u001b[0m\n",
      "File \u001b[1;32m~\\anaconda3\\lib\\site-packages\\pandas\\_libs\\index.pyx:163\u001b[0m, in \u001b[0;36mpandas._libs.index.IndexEngine.get_loc\u001b[1;34m()\u001b[0m\n",
      "File \u001b[1;32mpandas\\_libs\\hashtable_class_helper.pxi:2131\u001b[0m, in \u001b[0;36mpandas._libs.hashtable.Int64HashTable.get_item\u001b[1;34m()\u001b[0m\n",
      "File \u001b[1;32mpandas\\_libs\\hashtable_class_helper.pxi:2140\u001b[0m, in \u001b[0;36mpandas._libs.hashtable.Int64HashTable.get_item\u001b[1;34m()\u001b[0m\n",
      "\u001b[1;31mKeyError\u001b[0m: 0",
      "\nThe above exception was the direct cause of the following exception:\n",
      "\u001b[1;31mKeyError\u001b[0m                                  Traceback (most recent call last)",
      "Input \u001b[1;32mIn [27]\u001b[0m, in \u001b[0;36m<cell line: 8>\u001b[1;34m()\u001b[0m\n\u001b[0;32m      6\u001b[0m mortes_ht \u001b[38;5;241m=\u001b[39m [] \n\u001b[0;32m      8\u001b[0m \u001b[38;5;28;01mfor\u001b[39;00m i \u001b[38;5;129;01min\u001b[39;00m \u001b[38;5;28mrange\u001b[39m (\u001b[38;5;28mlen\u001b[39m(country_df\u001b[38;5;241m.\u001b[39mindex)):\n\u001b[1;32m----> 9\u001b[0m     \u001b[38;5;28;01mif\u001b[39;00m \u001b[43mcountry_df\u001b[49m\u001b[43m[\u001b[49m\u001b[38;5;124;43m'\u001b[39;49m\u001b[38;5;124;43mlocation\u001b[39;49m\u001b[38;5;124;43m'\u001b[39;49m\u001b[43m]\u001b[49m\u001b[43m[\u001b[49m\u001b[43mi\u001b[49m\u001b[43m]\u001b[49m \u001b[38;5;241m==\u001b[39m \u001b[38;5;124m'\u001b[39m\u001b[38;5;124mPortugal\u001b[39m\u001b[38;5;124m'\u001b[39m:\n\u001b[0;32m     10\u001b[0m         casos_ht\u001b[38;5;241m.\u001b[39mappend((country_df[\u001b[38;5;124m'\u001b[39m\u001b[38;5;124mnew_cases\u001b[39m\u001b[38;5;124m'\u001b[39m][i] \u001b[38;5;241m/\u001b[39m country_df[\u001b[38;5;124m'\u001b[39m\u001b[38;5;124mpopulation\u001b[39m\u001b[38;5;124m'\u001b[39m][i] )\u001b[38;5;241m*\u001b[39m\u001b[38;5;241m100000\u001b[39m)\n\u001b[0;32m     11\u001b[0m         mortes_ht\u001b[38;5;241m.\u001b[39mappend((country_df[\u001b[38;5;124m'\u001b[39m\u001b[38;5;124mnew_deaths\u001b[39m\u001b[38;5;124m'\u001b[39m][i] \u001b[38;5;241m/\u001b[39m country_df[\u001b[38;5;124m'\u001b[39m\u001b[38;5;124mpopulation\u001b[39m\u001b[38;5;124m'\u001b[39m][i])\u001b[38;5;241m*\u001b[39m\u001b[38;5;241m100000\u001b[39m)\n",
      "File \u001b[1;32m~\\anaconda3\\lib\\site-packages\\pandas\\core\\series.py:958\u001b[0m, in \u001b[0;36mSeries.__getitem__\u001b[1;34m(self, key)\u001b[0m\n\u001b[0;32m    955\u001b[0m     \u001b[38;5;28;01mreturn\u001b[39;00m \u001b[38;5;28mself\u001b[39m\u001b[38;5;241m.\u001b[39m_values[key]\n\u001b[0;32m    957\u001b[0m \u001b[38;5;28;01melif\u001b[39;00m key_is_scalar:\n\u001b[1;32m--> 958\u001b[0m     \u001b[38;5;28;01mreturn\u001b[39;00m \u001b[38;5;28;43mself\u001b[39;49m\u001b[38;5;241;43m.\u001b[39;49m\u001b[43m_get_value\u001b[49m\u001b[43m(\u001b[49m\u001b[43mkey\u001b[49m\u001b[43m)\u001b[49m\n\u001b[0;32m    960\u001b[0m \u001b[38;5;28;01mif\u001b[39;00m is_hashable(key):\n\u001b[0;32m    961\u001b[0m     \u001b[38;5;66;03m# Otherwise index.get_value will raise InvalidIndexError\u001b[39;00m\n\u001b[0;32m    962\u001b[0m     \u001b[38;5;28;01mtry\u001b[39;00m:\n\u001b[0;32m    963\u001b[0m         \u001b[38;5;66;03m# For labels that don't resolve as scalars like tuples and frozensets\u001b[39;00m\n",
      "File \u001b[1;32m~\\anaconda3\\lib\\site-packages\\pandas\\core\\series.py:1069\u001b[0m, in \u001b[0;36mSeries._get_value\u001b[1;34m(self, label, takeable)\u001b[0m\n\u001b[0;32m   1066\u001b[0m     \u001b[38;5;28;01mreturn\u001b[39;00m \u001b[38;5;28mself\u001b[39m\u001b[38;5;241m.\u001b[39m_values[label]\n\u001b[0;32m   1068\u001b[0m \u001b[38;5;66;03m# Similar to Index.get_value, but we do not fall back to positional\u001b[39;00m\n\u001b[1;32m-> 1069\u001b[0m loc \u001b[38;5;241m=\u001b[39m \u001b[38;5;28;43mself\u001b[39;49m\u001b[38;5;241;43m.\u001b[39;49m\u001b[43mindex\u001b[49m\u001b[38;5;241;43m.\u001b[39;49m\u001b[43mget_loc\u001b[49m\u001b[43m(\u001b[49m\u001b[43mlabel\u001b[49m\u001b[43m)\u001b[49m\n\u001b[0;32m   1070\u001b[0m \u001b[38;5;28;01mreturn\u001b[39;00m \u001b[38;5;28mself\u001b[39m\u001b[38;5;241m.\u001b[39mindex\u001b[38;5;241m.\u001b[39m_get_values_for_loc(\u001b[38;5;28mself\u001b[39m, loc, label)\n",
      "File \u001b[1;32m~\\anaconda3\\lib\\site-packages\\pandas\\core\\indexes\\base.py:3623\u001b[0m, in \u001b[0;36mIndex.get_loc\u001b[1;34m(self, key, method, tolerance)\u001b[0m\n\u001b[0;32m   3621\u001b[0m     \u001b[38;5;28;01mreturn\u001b[39;00m \u001b[38;5;28mself\u001b[39m\u001b[38;5;241m.\u001b[39m_engine\u001b[38;5;241m.\u001b[39mget_loc(casted_key)\n\u001b[0;32m   3622\u001b[0m \u001b[38;5;28;01mexcept\u001b[39;00m \u001b[38;5;167;01mKeyError\u001b[39;00m \u001b[38;5;28;01mas\u001b[39;00m err:\n\u001b[1;32m-> 3623\u001b[0m     \u001b[38;5;28;01mraise\u001b[39;00m \u001b[38;5;167;01mKeyError\u001b[39;00m(key) \u001b[38;5;28;01mfrom\u001b[39;00m \u001b[38;5;21;01merr\u001b[39;00m\n\u001b[0;32m   3624\u001b[0m \u001b[38;5;28;01mexcept\u001b[39;00m \u001b[38;5;167;01mTypeError\u001b[39;00m:\n\u001b[0;32m   3625\u001b[0m     \u001b[38;5;66;03m# If we have a listlike key, _check_indexing_error will raise\u001b[39;00m\n\u001b[0;32m   3626\u001b[0m     \u001b[38;5;66;03m#  InvalidIndexError. Otherwise we fall through and re-raise\u001b[39;00m\n\u001b[0;32m   3627\u001b[0m     \u001b[38;5;66;03m#  the TypeError.\u001b[39;00m\n\u001b[0;32m   3628\u001b[0m     \u001b[38;5;28mself\u001b[39m\u001b[38;5;241m.\u001b[39m_check_indexing_error(key)\n",
      "\u001b[1;31mKeyError\u001b[0m: 0"
     ]
    }
   ],
   "source": [
    "# adding extra columns to the dataframe with normalised data for new_cases and new_deaths\n",
    "\n",
    "# Your code here\n",
    "\n",
    "casos_ht = [] \n",
    "mortes_ht = [] \n",
    "\n",
    "for i in range (len(country_df.index)):\n",
    "    if country_df['location'][i] == 'Portugal':\n",
    "        casos_ht.append((country_df['new_cases'][i] / country_df['population'][i] )*100000)\n",
    "        mortes_ht.append((country_df['new_deaths'][i] / country_df['population'][i])*100000)\n",
    "\n",
    "country_df['new_cases_ht'] = casos_ht\n",
    "country_df['new_deaths_ht'] = mortes_ht"
   ]
  },
  {
   "cell_type": "markdown",
   "id": "12cc7402",
   "metadata": {},
   "source": [
    "Your analysis here"
   ]
  }
 ],
 "metadata": {
  "kernelspec": {
   "display_name": "Python 3 (ipykernel)",
   "language": "python",
   "name": "python3"
  },
  "language_info": {
   "codemirror_mode": {
    "name": "ipython",
    "version": 3
   },
   "file_extension": ".py",
   "mimetype": "text/x-python",
   "name": "python",
   "nbconvert_exporter": "python",
   "pygments_lexer": "ipython3",
   "version": "3.9.12"
  }
 },
 "nbformat": 4,
 "nbformat_minor": 5
}
